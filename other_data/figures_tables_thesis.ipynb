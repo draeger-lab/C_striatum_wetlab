{
 "cells": [
  {
   "cell_type": "markdown",
   "metadata": {},
   "source": [
    "# Scripts for floats\n",
    "This file contains short scripts that were written for the sole purpose of generating tables and / or figures for the thesis"
   ]
  },
  {
   "cell_type": "code",
   "execution_count": 3,
   "metadata": {},
   "outputs": [],
   "source": [
    "#imports\n",
    "import pandas as pd\n",
    "import numpy as np"
   ]
  },
  {
   "cell_type": "markdown",
   "metadata": {},
   "source": [
    "### Overview on media composition"
   ]
  },
  {
   "cell_type": "code",
   "execution_count": 8,
   "metadata": {},
   "outputs": [
    {
     "data": {
      "text/plain": [
       "'\\\\begin{tabular}{llll}\\n\\\\toprule\\n     LB &     SNM &    RPMI &      M9 \\\\\\\\\\n\\\\midrule\\n    adn &  ala\\\\_\\\\_L &     ca2 &     ca2 \\\\\\\\\\n ala\\\\_\\\\_L &  arg\\\\_\\\\_L &     no3 &      cl \\\\\\\\\\n    amp &  cys\\\\_\\\\_L &     mg2 & cobalt2 \\\\\\\\\\n arg\\\\_\\\\_L &  glu\\\\_\\\\_L &     so4 &     cu2 \\\\\\\\\\n   aso3 &     gly &      cl &     fe2 \\\\\\\\\\n asp\\\\_\\\\_L &  his\\\\_\\\\_L &       k &     fe3 \\\\\\\\\\n    ca2 &  leu\\\\_\\\\_L &     na1 &  glc\\\\_\\\\_D \\\\\\\\\\n   cbl1 &  lys\\\\_\\\\_L &      pi &     h2o \\\\\\\\\\n    cd2 &     orn &     gly &       h \\\\\\\\\\n     cl &  phe\\\\_\\\\_L &  arg\\\\_\\\\_L &       k \\\\\\\\\\n    cmp &  pro\\\\_\\\\_L &  asn\\\\_\\\\_L &     mg2 \\\\\\\\\\ncobalt2 &  ser\\\\_\\\\_L &  asp\\\\_\\\\_L &     mn2 \\\\\\\\\\n   cro4 &  thr\\\\_\\\\_L &  cys\\\\_\\\\_L &    mobd \\\\\\\\\\n    cu2 &  trp\\\\_\\\\_L &  glu\\\\_\\\\_L &     na1 \\\\\\\\\\n cys\\\\_\\\\_L &  val\\\\_\\\\_L &  gln\\\\_\\\\_L &     nh4 \\\\\\\\\\n  dad\\\\_2 &     cit &  his\\\\_\\\\_L &     ni2 \\\\\\\\\\n   dcyt &     fum &  ile\\\\_\\\\_L &      o2 \\\\\\\\\\n    fe2 &    male &  leu\\\\_\\\\_L &      pi \\\\\\\\\\n    fe3 &     pyr &  met\\\\_\\\\_L &     so4 \\\\\\\\\\n    fol &    succ &  phe\\\\_\\\\_L &     zn2 \\\\\\\\\\n glc\\\\_\\\\_D &  glc\\\\_\\\\_D &  pro\\\\_\\\\_L &         \\\\\\\\\\n glu\\\\_\\\\_L &    urea &  ser\\\\_\\\\_L &         \\\\\\\\\\n    gly &     na1 &  thr\\\\_\\\\_L &         \\\\\\\\\\n    gmp &      cl &  trp\\\\_\\\\_L &         \\\\\\\\\\n    gsn &       k &  tyr\\\\_\\\\_L &         \\\\\\\\\\n    h2o &      pi &  val\\\\_\\\\_L &         \\\\\\\\\\n    h2s &     mg2 &  lys\\\\_\\\\_L &         \\\\\\\\\\n      h &     so4 &     btn &         \\\\\\\\\\n    hg2 &         &    chol &         \\\\\\\\\\n his\\\\_\\\\_L &     ca2 &    ncam &         \\\\\\\\\\n   hxan &     zn2 &    4abz &         \\\\\\\\\\n ile\\\\_\\\\_L &     mn2 &  ribflv &         \\\\\\\\\\n    ins &         &     thm &         \\\\\\\\\\n      k & cobalt2 &   inost &         \\\\\\\\\\n leu\\\\_\\\\_L &     cu2 & pnto\\\\_\\\\_R &         \\\\\\\\\\nlipoate &     ni2 &     fol &         \\\\\\\\\\n lys\\\\_\\\\_L &    mobd &    clb1 &         \\\\\\\\\\n met\\\\_\\\\_L &  adocbl &   pydxn &         \\\\\\\\\\n    mg2 &    4abz &    cbl1 &         \\\\\\\\\\n    mn2 &     btn &     nac &         \\\\\\\\\\n   mobd &     nac &  glc\\\\_\\\\_D &         \\\\\\\\\\n    na1 & pnto\\\\_\\\\_R &   gthrd &         \\\\\\\\\\n    nac &   pydam &     h2o &         \\\\\\\\\\n    nh4 &     thm &      o2 &         \\\\\\\\\\n    ni2 &  ribflv &     co2 &         \\\\\\\\\\n     o2 &      o2 &         &         \\\\\\\\\\n phe\\\\_\\\\_L &     fe2 &         &         \\\\\\\\\\n  pheme &     h2o &         &         \\\\\\\\\\n     pi &     co2 &         &         \\\\\\\\\\npnto\\\\_\\\\_R &         &         &         \\\\\\\\\\n pro\\\\_\\\\_L &         &         &         \\\\\\\\\\n   pydx &         &         &         \\\\\\\\\\n ribflv &         &         &         \\\\\\\\\\n ser\\\\_\\\\_L &         &         &         \\\\\\\\\\n    so4 &         &         &         \\\\\\\\\\n    thm &         &         &         \\\\\\\\\\n thr\\\\_\\\\_L &         &         &         \\\\\\\\\\n  thymd &         &         &         \\\\\\\\\\n trp\\\\_\\\\_L &         &         &         \\\\\\\\\\n tyr\\\\_\\\\_L &         &         &         \\\\\\\\\\n    ump &         &         &         \\\\\\\\\\n    ura &         &         &         \\\\\\\\\\n    uri &         &         &         \\\\\\\\\\n val\\\\_\\\\_L &         &         &         \\\\\\\\\\n    zn2 &         &         &         \\\\\\\\\\n\\\\bottomrule\\n\\\\end{tabular}\\n'"
      ]
     },
     "execution_count": 8,
     "metadata": {},
     "output_type": "execute_result"
    }
   ],
   "source": [
    "\n",
    "media = pd.read_csv('/Users/baeuerle/Organisation/Masterarbeit/refinegems/data/media_db.csv', sep=';').drop('name', axis=1)\n",
    "lb = media.drop('description', axis=1)[media.drop('description', axis=1)['medium']=='LB'].drop('medium', axis=1).rename({'BiGG':'LB'}, axis=1)\n",
    "\n",
    "media = pd.read_csv('/Users/baeuerle/Organisation/Masterarbeit/refinegems/data/media_db.csv', sep=';').drop('name', axis=1)\n",
    "snm = media.drop('description', axis=1)[media.drop('description', axis=1)['medium']=='SNM3'].drop('medium', axis=1).rename({'BiGG':'SNM'}, axis=1)\n",
    "\n",
    "media = pd.read_csv('/Users/baeuerle/Organisation/Masterarbeit/refinegems/data/media_db.csv', sep=';').drop('name', axis=1)\n",
    "rpmi = media.drop('description', axis=1)[media.drop('description', axis=1)['medium']=='RPMI'].drop('medium', axis=1).rename({'BiGG':'RPMI'}, axis=1)\n",
    "\n",
    "media = pd.read_csv('/Users/baeuerle/Organisation/Masterarbeit/refinegems/data/media_db.csv', sep=';').drop('name', axis=1)\n",
    "m9 = media.drop('description', axis=1)[media.drop('description', axis=1)['medium']=='M9'].drop('medium', axis=1).rename({'BiGG':'M9'}, axis=1)\n",
    "\n",
    "all = lb.reset_index().drop('index', \n",
    "                    axis=1).join(snm.reset_index().drop('index', \n",
    "                    axis=1), how='outer').join(rpmi.reset_index().drop('index', \n",
    "                    axis=1), how='outer').join(m9.reset_index().drop('index', \n",
    "                    axis=1), how='outer').replace({np.NaN: ' '})#.to_csv(index=False)\n",
    "all.to_latex(index=False)"
   ]
  }
 ],
 "metadata": {
  "kernelspec": {
   "display_name": "Python 3.9.4 64-bit",
   "language": "python",
   "name": "python3"
  },
  "language_info": {
   "codemirror_mode": {
    "name": "ipython",
    "version": 3
   },
   "file_extension": ".py",
   "mimetype": "text/x-python",
   "name": "python",
   "nbconvert_exporter": "python",
   "pygments_lexer": "ipython3",
   "version": "3.9.4"
  },
  "orig_nbformat": 4,
  "vscode": {
   "interpreter": {
    "hash": "aee8b7b246df8f9039afb4144a1f6fd8d2ca17a180786b69acc140d282b71a49"
   }
  }
 },
 "nbformat": 4,
 "nbformat_minor": 2
}
